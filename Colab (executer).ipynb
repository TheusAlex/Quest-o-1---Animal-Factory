{
  "nbformat": 4,
  "nbformat_minor": 0,
  "metadata": {
    "colab": {
      "provenance": [],
      "authorship_tag": "ABX9TyNjqMAKlSSV8ehzP+2GgRkp",
      "include_colab_link": true
    },
    "kernelspec": {
      "name": "python3",
      "display_name": "Python 3"
    },
    "language_info": {
      "name": "python"
    }
  },
  "cells": [
    {
      "cell_type": "markdown",
      "metadata": {
        "id": "view-in-github",
        "colab_type": "text"
      },
      "source": [
        "<a href=\"https://colab.research.google.com/github/TheusAlex/Questao1_FactoryAnimal/blob/main/Quest%C3%A3o_1.ipynb\" target=\"_parent\"><img src=\"https://colab.research.google.com/assets/colab-badge.svg\" alt=\"Open In Colab\"/></a>"
      ]
    },
    {
      "cell_type": "code",
      "execution_count": 3,
      "metadata": {
        "colab": {
          "base_uri": "https://localhost:8080/"
        },
        "id": "oleKGOr3kBGN",
        "outputId": "bafc40ec-c7bd-4b4a-dd2a-4642fe436720"
      },
      "outputs": [
        {
          "output_type": "stream",
          "name": "stdout",
          "text": [
            "*********************************\n",
            "           Bem vindo             \n",
            "*********************************\n",
            "Digite '1' para GATO, '2' para CACHORRO, 'histórico' para ver o histórico, ou '3' para encerrar: 3\n",
            "Encerrando a execução.\n"
          ]
        }
      ],
      "source": [
        "from typing import List\n",
        "\n",
        "class Animal:\n",
        "    def fazer_som(self):\n",
        "        pass\n",
        "\n",
        "class Gato(Animal):\n",
        "    def fazer_som(self):\n",
        "        return \"Miau\"\n",
        "\n",
        "class Cachorro(Animal):\n",
        "    def fazer_som(self):\n",
        "        return \"Auau\"\n",
        "\n",
        "class AnimalFactory:\n",
        "    _instance = None\n",
        "    historico: List[str] = []\n",
        "\n",
        "    def __new__(cls):\n",
        "        if cls._instance is None:\n",
        "            cls._instance = super(AnimalFactory, cls).__new__(cls)\n",
        "        return cls._instance\n",
        "\n",
        "    def criar_animal(self, tipo):\n",
        "        if tipo == \"1\":\n",
        "            animal = Gato()\n",
        "        elif tipo == \"2\":\n",
        "            animal = Cachorro()\n",
        "        else:\n",
        "            raise ValueError(\"Tipo de animal inválido\")\n",
        "\n",
        "        som = animal.fazer_som()\n",
        "        self.historico.append(f\"{tipo} {som}\")\n",
        "        return som\n",
        "\n",
        "def main():\n",
        "    factory = AnimalFactory()\n",
        "\n",
        "    print(\"*********************************\")\n",
        "    print(\"           Bem vindo             \")\n",
        "    print(\"*********************************\")\n",
        "\n",
        "    while True:\n",
        "        entrada = input(\"Digite '1' para GATO, '2' para CACHORRO, 'histórico' para ver o histórico, ou '3' para encerrar: \")\n",
        "\n",
        "        if entrada.lower() == \"histórico\":\n",
        "            for item in factory.historico:\n",
        "                print(item)\n",
        "        elif entrada == \"3\":\n",
        "            print(\"Encerrando a execução.\")\n",
        "            break\n",
        "        else:\n",
        "            try:\n",
        "                som = factory.criar_animal(entrada)\n",
        "                print(f\"Output: {som}\")\n",
        "            except ValueError as e:\n",
        "                print(f\"Erro: {e}\")\n",
        "\n",
        "if __name__ == \"__main__\":\n",
        "    main()"
      ]
    },
    {
      "cell_type": "code",
      "source": [],
      "metadata": {
        "id": "7Kj1oWpSkER_"
      },
      "execution_count": null,
      "outputs": []
    }
  ]
}
